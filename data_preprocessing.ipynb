{
 "cells": [
  {
   "cell_type": "code",
   "execution_count": 1,
   "id": "7b00854a",
   "metadata": {},
   "outputs": [],
   "source": [
    "import pandas as pd"
   ]
  },
  {
   "cell_type": "code",
   "execution_count": 2,
   "id": "e251e838",
   "metadata": {},
   "outputs": [],
   "source": [
    "ache_data = pd.read_csv('ache_data.csv', sep=';')"
   ]
  },
  {
   "cell_type": "code",
   "execution_count": 3,
   "id": "3af64e81",
   "metadata": {},
   "outputs": [
    {
     "data": {
      "text/html": [
       "<div>\n",
       "<style scoped>\n",
       "    .dataframe tbody tr th:only-of-type {\n",
       "        vertical-align: middle;\n",
       "    }\n",
       "\n",
       "    .dataframe tbody tr th {\n",
       "        vertical-align: top;\n",
       "    }\n",
       "\n",
       "    .dataframe thead th {\n",
       "        text-align: right;\n",
       "    }\n",
       "</style>\n",
       "<table border=\"1\" class=\"dataframe\">\n",
       "  <thead>\n",
       "    <tr style=\"text-align: right;\">\n",
       "      <th></th>\n",
       "      <th>Molecule ChEMBL ID</th>\n",
       "      <th>Molecule Name</th>\n",
       "      <th>Molecule Max Phase</th>\n",
       "      <th>Molecular Weight</th>\n",
       "      <th>#RO5 Violations</th>\n",
       "      <th>AlogP</th>\n",
       "      <th>Compound Key</th>\n",
       "      <th>Smiles</th>\n",
       "      <th>Standard Type</th>\n",
       "      <th>Standard Relation</th>\n",
       "      <th>...</th>\n",
       "      <th>Target Name</th>\n",
       "      <th>Target Organism</th>\n",
       "      <th>Target Type</th>\n",
       "      <th>Document ChEMBL ID</th>\n",
       "      <th>Source ID</th>\n",
       "      <th>Source Description</th>\n",
       "      <th>Document Journal</th>\n",
       "      <th>Document Year</th>\n",
       "      <th>Cell ChEMBL ID</th>\n",
       "      <th>Properties</th>\n",
       "    </tr>\n",
       "  </thead>\n",
       "  <tbody>\n",
       "    <tr>\n",
       "      <th>0</th>\n",
       "      <td>CHEMBL4065242</td>\n",
       "      <td>NaN</td>\n",
       "      <td>0</td>\n",
       "      <td>432.52</td>\n",
       "      <td>0</td>\n",
       "      <td>4.67</td>\n",
       "      <td>3b</td>\n",
       "      <td>COc1cc2c(cc1OC)C(c1ccccc1)N(Cc1cc(C)cc(/C=N/O)...</td>\n",
       "      <td>Activity</td>\n",
       "      <td>'='</td>\n",
       "      <td>...</td>\n",
       "      <td>Acetylcholinesterase</td>\n",
       "      <td>Homo sapiens</td>\n",
       "      <td>SINGLE PROTEIN</td>\n",
       "      <td>CHEMBL4043104</td>\n",
       "      <td>1</td>\n",
       "      <td>Scientific Literature</td>\n",
       "      <td>Bioorg Med Chem</td>\n",
       "      <td>2017.0</td>\n",
       "      <td>None</td>\n",
       "      <td>NaN</td>\n",
       "    </tr>\n",
       "    <tr>\n",
       "      <th>1</th>\n",
       "      <td>CHEMBL4073838</td>\n",
       "      <td>NaN</td>\n",
       "      <td>0</td>\n",
       "      <td>418.49</td>\n",
       "      <td>0</td>\n",
       "      <td>4.37</td>\n",
       "      <td>1b</td>\n",
       "      <td>COc1cc2c(cc1OC)C(c1ccccc1)N(Cc1cccc(/C=N/O)c1O...</td>\n",
       "      <td>Activity</td>\n",
       "      <td>'='</td>\n",
       "      <td>...</td>\n",
       "      <td>Acetylcholinesterase</td>\n",
       "      <td>Homo sapiens</td>\n",
       "      <td>SINGLE PROTEIN</td>\n",
       "      <td>CHEMBL4043104</td>\n",
       "      <td>1</td>\n",
       "      <td>Scientific Literature</td>\n",
       "      <td>Bioorg Med Chem</td>\n",
       "      <td>2017.0</td>\n",
       "      <td>None</td>\n",
       "      <td>NaN</td>\n",
       "    </tr>\n",
       "    <tr>\n",
       "      <th>2</th>\n",
       "      <td>CHEMBL4080917</td>\n",
       "      <td>NaN</td>\n",
       "      <td>0</td>\n",
       "      <td>376.84</td>\n",
       "      <td>0</td>\n",
       "      <td>3.43</td>\n",
       "      <td>4a</td>\n",
       "      <td>COc1cc2c(cc1OC)CN(Cc1cc(Cl)cc(/C=N/O)c1O)CC2</td>\n",
       "      <td>Activity</td>\n",
       "      <td>'='</td>\n",
       "      <td>...</td>\n",
       "      <td>Acetylcholinesterase</td>\n",
       "      <td>Homo sapiens</td>\n",
       "      <td>SINGLE PROTEIN</td>\n",
       "      <td>CHEMBL4043104</td>\n",
       "      <td>1</td>\n",
       "      <td>Scientific Literature</td>\n",
       "      <td>Bioorg Med Chem</td>\n",
       "      <td>2017.0</td>\n",
       "      <td>None</td>\n",
       "      <td>NaN</td>\n",
       "    </tr>\n",
       "    <tr>\n",
       "      <th>3</th>\n",
       "      <td>CHEMBL4088294</td>\n",
       "      <td>NaN</td>\n",
       "      <td>0</td>\n",
       "      <td>342.40</td>\n",
       "      <td>0</td>\n",
       "      <td>2.78</td>\n",
       "      <td>2a</td>\n",
       "      <td>COc1cc2c(cc1OC)CN(Cc1ccc(O)c(/C=N/O)c1)CC2</td>\n",
       "      <td>Activity</td>\n",
       "      <td>'='</td>\n",
       "      <td>...</td>\n",
       "      <td>Acetylcholinesterase</td>\n",
       "      <td>Homo sapiens</td>\n",
       "      <td>SINGLE PROTEIN</td>\n",
       "      <td>CHEMBL4043104</td>\n",
       "      <td>1</td>\n",
       "      <td>Scientific Literature</td>\n",
       "      <td>Bioorg Med Chem</td>\n",
       "      <td>2017.0</td>\n",
       "      <td>None</td>\n",
       "      <td>NaN</td>\n",
       "    </tr>\n",
       "    <tr>\n",
       "      <th>4</th>\n",
       "      <td>CHEMBL4063109</td>\n",
       "      <td>NaN</td>\n",
       "      <td>0</td>\n",
       "      <td>533.64</td>\n",
       "      <td>2</td>\n",
       "      <td>5.22</td>\n",
       "      <td>6d</td>\n",
       "      <td>COc1cc2c(cc1OC)C(c1ccccc1)N(CC1CCN(Cc3cc(F)cc(...</td>\n",
       "      <td>Activity</td>\n",
       "      <td>'='</td>\n",
       "      <td>...</td>\n",
       "      <td>Acetylcholinesterase</td>\n",
       "      <td>Homo sapiens</td>\n",
       "      <td>SINGLE PROTEIN</td>\n",
       "      <td>CHEMBL4043104</td>\n",
       "      <td>1</td>\n",
       "      <td>Scientific Literature</td>\n",
       "      <td>Bioorg Med Chem</td>\n",
       "      <td>2017.0</td>\n",
       "      <td>None</td>\n",
       "      <td>NaN</td>\n",
       "    </tr>\n",
       "  </tbody>\n",
       "</table>\n",
       "<p>5 rows × 45 columns</p>\n",
       "</div>"
      ],
      "text/plain": [
       "  Molecule ChEMBL ID Molecule Name  Molecule Max Phase Molecular Weight  \\\n",
       "0      CHEMBL4065242           NaN                   0           432.52   \n",
       "1      CHEMBL4073838           NaN                   0           418.49   \n",
       "2      CHEMBL4080917           NaN                   0           376.84   \n",
       "3      CHEMBL4088294           NaN                   0           342.40   \n",
       "4      CHEMBL4063109           NaN                   0           533.64   \n",
       "\n",
       "  #RO5 Violations AlogP Compound Key  \\\n",
       "0               0  4.67           3b   \n",
       "1               0  4.37           1b   \n",
       "2               0  3.43           4a   \n",
       "3               0  2.78           2a   \n",
       "4               2  5.22           6d   \n",
       "\n",
       "                                              Smiles Standard Type  \\\n",
       "0  COc1cc2c(cc1OC)C(c1ccccc1)N(Cc1cc(C)cc(/C=N/O)...      Activity   \n",
       "1  COc1cc2c(cc1OC)C(c1ccccc1)N(Cc1cccc(/C=N/O)c1O...      Activity   \n",
       "2       COc1cc2c(cc1OC)CN(Cc1cc(Cl)cc(/C=N/O)c1O)CC2      Activity   \n",
       "3         COc1cc2c(cc1OC)CN(Cc1ccc(O)c(/C=N/O)c1)CC2      Activity   \n",
       "4  COc1cc2c(cc1OC)C(c1ccccc1)N(CC1CCN(Cc3cc(F)cc(...      Activity   \n",
       "\n",
       "  Standard Relation  ...           Target Name Target Organism  \\\n",
       "0               '='  ...  Acetylcholinesterase    Homo sapiens   \n",
       "1               '='  ...  Acetylcholinesterase    Homo sapiens   \n",
       "2               '='  ...  Acetylcholinesterase    Homo sapiens   \n",
       "3               '='  ...  Acetylcholinesterase    Homo sapiens   \n",
       "4               '='  ...  Acetylcholinesterase    Homo sapiens   \n",
       "\n",
       "      Target Type Document ChEMBL ID Source ID     Source Description  \\\n",
       "0  SINGLE PROTEIN      CHEMBL4043104         1  Scientific Literature   \n",
       "1  SINGLE PROTEIN      CHEMBL4043104         1  Scientific Literature   \n",
       "2  SINGLE PROTEIN      CHEMBL4043104         1  Scientific Literature   \n",
       "3  SINGLE PROTEIN      CHEMBL4043104         1  Scientific Literature   \n",
       "4  SINGLE PROTEIN      CHEMBL4043104         1  Scientific Literature   \n",
       "\n",
       "   Document Journal Document Year Cell ChEMBL ID Properties  \n",
       "0   Bioorg Med Chem        2017.0           None        NaN  \n",
       "1   Bioorg Med Chem        2017.0           None        NaN  \n",
       "2   Bioorg Med Chem        2017.0           None        NaN  \n",
       "3   Bioorg Med Chem        2017.0           None        NaN  \n",
       "4   Bioorg Med Chem        2017.0           None        NaN  \n",
       "\n",
       "[5 rows x 45 columns]"
      ]
     },
     "execution_count": 3,
     "metadata": {},
     "output_type": "execute_result"
    }
   ],
   "source": [
    "ache_data.head()"
   ]
  },
  {
   "cell_type": "code",
   "execution_count": 4,
   "id": "a13f5ab7",
   "metadata": {},
   "outputs": [
    {
     "data": {
      "text/plain": [
       "Index(['Molecule ChEMBL ID', 'Molecule Name', 'Molecule Max Phase',\n",
       "       'Molecular Weight', '#RO5 Violations', 'AlogP', 'Compound Key',\n",
       "       'Smiles', 'Standard Type', 'Standard Relation', 'Standard Value',\n",
       "       'Standard Units', 'pChEMBL Value', 'Data Validity Comment', 'Comment',\n",
       "       'Uo Units', 'Ligand Efficiency BEI', 'Ligand Efficiency LE',\n",
       "       'Ligand Efficiency LLE', 'Ligand Efficiency SEI', 'Potential Duplicate',\n",
       "       'Assay ChEMBL ID', 'Assay Description', 'Assay Type', 'BAO Format ID',\n",
       "       'BAO Label', 'Assay Organism', 'Assay Tissue ChEMBL ID',\n",
       "       'Assay Tissue Name', 'Assay Cell Type', 'Assay Subcellular Fraction',\n",
       "       'Assay Parameters', 'Assay Variant Accession', 'Assay Variant Mutation',\n",
       "       'Target ChEMBL ID', 'Target Name', 'Target Organism', 'Target Type',\n",
       "       'Document ChEMBL ID', 'Source ID', 'Source Description',\n",
       "       'Document Journal', 'Document Year', 'Cell ChEMBL ID', 'Properties'],\n",
       "      dtype='object')"
      ]
     },
     "execution_count": 4,
     "metadata": {},
     "output_type": "execute_result"
    }
   ],
   "source": [
    "ache_data.columns"
   ]
  },
  {
   "cell_type": "markdown",
   "id": "1d684787",
   "metadata": {},
   "source": [
    "Принципиально интересны следующие колонки:\n",
    "* Molecule ChEMBL ID — для поиска дубликатов\n",
    "* Smiles — как источник дескрипторов\n",
    "* Standard Type — интересует IC50\n",
    "* Standard Value — значение\n",
    "* Standard Units — величина измерения\n",
    "Поэтому создадим сет из них."
   ]
  },
  {
   "cell_type": "code",
   "execution_count": 5,
   "id": "177f943d",
   "metadata": {},
   "outputs": [],
   "source": [
    "ache_data_edited = ache_data[['Molecule ChEMBL ID', 'Smiles', 'Standard Type', 'Standard Value', 'Standard Units']]"
   ]
  },
  {
   "cell_type": "code",
   "execution_count": 6,
   "id": "ee679cca",
   "metadata": {},
   "outputs": [
    {
     "data": {
      "text/plain": [
       "IC50                8205\n",
       "Inhibition          1933\n",
       "Ki                  1843\n",
       "Activity            1388\n",
       "K                    410\n",
       "                    ... \n",
       "INH                    2\n",
       "Drug degradation       2\n",
       "Kic                    1\n",
       "Fold IC50              1\n",
       "IC33                   1\n",
       "Name: Standard Type, Length: 67, dtype: int64"
      ]
     },
     "execution_count": 6,
     "metadata": {},
     "output_type": "execute_result"
    }
   ],
   "source": [
    "ache_data_edited['Standard Type'].value_counts()"
   ]
  },
  {
   "cell_type": "markdown",
   "id": "f53e73ea",
   "metadata": {},
   "source": [
    "Возьмём все значения IC50, то есть полуингибирующей концентрации, наиболее удобной величины, а также удалим пустые значения."
   ]
  },
  {
   "cell_type": "code",
   "execution_count": 7,
   "id": "cd0c3ef6",
   "metadata": {},
   "outputs": [],
   "source": [
    "IC50 = ache_data_edited[ache_data_edited['Standard Type'].str.contains('IC50')]"
   ]
  },
  {
   "cell_type": "code",
   "execution_count": 8,
   "id": "070dadef",
   "metadata": {},
   "outputs": [],
   "source": [
    "IC50_nonan = IC50.dropna()"
   ]
  },
  {
   "cell_type": "code",
   "execution_count": 9,
   "id": "5a8666b5",
   "metadata": {},
   "outputs": [
    {
     "data": {
      "text/plain": [
       "nM              8118\n",
       "%               3060\n",
       "/min             294\n",
       "/mM/min          268\n",
       "M-1 min-1        199\n",
       "uM                86\n",
       "mM/min            49\n",
       "hr                49\n",
       "/M/min            43\n",
       "M                 36\n",
       "min-1             36\n",
       "10'3/M/min        36\n",
       "ug.mL-1           31\n",
       "ug                31\n",
       "10e-3 1/s         28\n",
       "min               23\n",
       "s-1               19\n",
       "10'-3/min         17\n",
       "10^-3/min         16\n",
       "ng                16\n",
       "deltaA/min         6\n",
       "10'4/M/min         6\n",
       "/hr                5\n",
       "10'3L/M            4\n",
       "10'5/M/min         4\n",
       "10'5L/M            4\n",
       "mAU/min            4\n",
       "M-min              4\n",
       "10'7/M/min         4\n",
       "10'5pM             3\n",
       "10'8/M/min         3\n",
       "U/min              3\n",
       "10'-1nmol          3\n",
       "10^8M              2\n",
       "10'-4nmol          2\n",
       "10'-8mol/min       2\n",
       "10'6/M/min         2\n",
       "10'-2nmol          2\n",
       "degrees C          2\n",
       "10'6pM             2\n",
       "10^-4microM        2\n",
       "mM                 2\n",
       "%/hr               1\n",
       "nmol               1\n",
       "/min/M             1\n",
       "10'3pM             1\n",
       "10'2/M/min         1\n",
       "Name: Standard Units, dtype: int64"
      ]
     },
     "execution_count": 9,
     "metadata": {},
     "output_type": "execute_result"
    }
   ],
   "source": [
    "ache_data_edited['Standard Units'].value_counts()"
   ]
  },
  {
   "cell_type": "code",
   "execution_count": 10,
   "id": "44f9d477",
   "metadata": {},
   "outputs": [],
   "source": [
    "IC50_nonan_units = IC50_nonan[IC50_nonan['Standard Units'].str.contains('nM')]"
   ]
  },
  {
   "cell_type": "code",
   "execution_count": 11,
   "id": "9a3bb3cf",
   "metadata": {},
   "outputs": [
    {
     "data": {
      "text/html": [
       "<div>\n",
       "<style scoped>\n",
       "    .dataframe tbody tr th:only-of-type {\n",
       "        vertical-align: middle;\n",
       "    }\n",
       "\n",
       "    .dataframe tbody tr th {\n",
       "        vertical-align: top;\n",
       "    }\n",
       "\n",
       "    .dataframe thead th {\n",
       "        text-align: right;\n",
       "    }\n",
       "</style>\n",
       "<table border=\"1\" class=\"dataframe\">\n",
       "  <thead>\n",
       "    <tr style=\"text-align: right;\">\n",
       "      <th></th>\n",
       "      <th>Molecule ChEMBL ID</th>\n",
       "      <th>Smiles</th>\n",
       "      <th>Standard Type</th>\n",
       "      <th>Standard Value</th>\n",
       "      <th>Standard Units</th>\n",
       "    </tr>\n",
       "  </thead>\n",
       "  <tbody>\n",
       "    <tr>\n",
       "      <th>14</th>\n",
       "      <td>CHEMBL3585775</td>\n",
       "      <td>COc1ccccc1C(C)NS(=O)(=O)NC(=O)OCc1ccccc1</td>\n",
       "      <td>IC50</td>\n",
       "      <td>0.02685</td>\n",
       "      <td>nM</td>\n",
       "    </tr>\n",
       "    <tr>\n",
       "      <th>15</th>\n",
       "      <td>CHEMBL4127071</td>\n",
       "      <td>C=C(C)[C@@H](O)CC[C@]1(C)[C@@H](CC=C(C)C)C[C@]...</td>\n",
       "      <td>IC50</td>\n",
       "      <td>9130.00000</td>\n",
       "      <td>nM</td>\n",
       "    </tr>\n",
       "    <tr>\n",
       "      <th>23</th>\n",
       "      <td>CHEMBL552832</td>\n",
       "      <td>Cl.O=C(CCC1CCN(Cc2ccccc2)CC1)c1ccccc1</td>\n",
       "      <td>IC50</td>\n",
       "      <td>305.00000</td>\n",
       "      <td>nM</td>\n",
       "    </tr>\n",
       "    <tr>\n",
       "      <th>24</th>\n",
       "      <td>CHEMBL2441674</td>\n",
       "      <td>COc1cc2c(cc1OC)C(=O)C(CCCCCc1cccc(OC)[n+]1C)C2...</td>\n",
       "      <td>IC50</td>\n",
       "      <td>120.00000</td>\n",
       "      <td>nM</td>\n",
       "    </tr>\n",
       "    <tr>\n",
       "      <th>25</th>\n",
       "      <td>CHEMBL2441672</td>\n",
       "      <td>COc1cc2c(cc1OC)C[N+](C)(CCCCCCc1cccc(OC)[n+]1C...</td>\n",
       "      <td>IC50</td>\n",
       "      <td>150.00000</td>\n",
       "      <td>nM</td>\n",
       "    </tr>\n",
       "  </tbody>\n",
       "</table>\n",
       "</div>"
      ],
      "text/plain": [
       "   Molecule ChEMBL ID                                             Smiles  \\\n",
       "14      CHEMBL3585775           COc1ccccc1C(C)NS(=O)(=O)NC(=O)OCc1ccccc1   \n",
       "15      CHEMBL4127071  C=C(C)[C@@H](O)CC[C@]1(C)[C@@H](CC=C(C)C)C[C@]...   \n",
       "23       CHEMBL552832              Cl.O=C(CCC1CCN(Cc2ccccc2)CC1)c1ccccc1   \n",
       "24      CHEMBL2441674  COc1cc2c(cc1OC)C(=O)C(CCCCCc1cccc(OC)[n+]1C)C2...   \n",
       "25      CHEMBL2441672  COc1cc2c(cc1OC)C[N+](C)(CCCCCCc1cccc(OC)[n+]1C...   \n",
       "\n",
       "   Standard Type  Standard Value Standard Units  \n",
       "14          IC50         0.02685             nM  \n",
       "15          IC50      9130.00000             nM  \n",
       "23          IC50       305.00000             nM  \n",
       "24          IC50       120.00000             nM  \n",
       "25          IC50       150.00000             nM  "
      ]
     },
     "execution_count": 11,
     "metadata": {},
     "output_type": "execute_result"
    }
   ],
   "source": [
    "IC50_nonan_units.head()"
   ]
  },
  {
   "cell_type": "code",
   "execution_count": 12,
   "id": "633a2fa6",
   "metadata": {},
   "outputs": [
    {
     "data": {
      "text/plain": [
       "nM    6908\n",
       "Name: Standard Units, dtype: int64"
      ]
     },
     "execution_count": 12,
     "metadata": {},
     "output_type": "execute_result"
    }
   ],
   "source": [
    "IC50_nonan_units['Standard Units'].value_counts()"
   ]
  },
  {
   "cell_type": "markdown",
   "id": "8a2ce542",
   "metadata": {},
   "source": [
    "Далее стоит обратить внимание на то, есть ли повторы в данных по колонке Molecule ChEMBL ID."
   ]
  },
  {
   "cell_type": "code",
   "execution_count": 13,
   "id": "68714152",
   "metadata": {
    "scrolled": true
   },
   "outputs": [
    {
     "data": {
      "text/plain": [
       "CHEMBL95         156\n",
       "CHEMBL502        121\n",
       "CHEMBL659         68\n",
       "CHEMBL94          47\n",
       "CHEMBL636         41\n",
       "                ... \n",
       "CHEMBL430886       1\n",
       "CHEMBL371798       1\n",
       "CHEMBL191416       1\n",
       "CHEMBL4281440      1\n",
       "CHEMBL4240365      1\n",
       "Name: Molecule ChEMBL ID, Length: 5639, dtype: int64"
      ]
     },
     "execution_count": 13,
     "metadata": {},
     "output_type": "execute_result"
    }
   ],
   "source": [
    "IC50_nonan_units['Molecule ChEMBL ID'].value_counts()"
   ]
  },
  {
   "cell_type": "code",
   "execution_count": 14,
   "id": "45339014",
   "metadata": {},
   "outputs": [],
   "source": [
    "data = IC50_nonan_units.drop_duplicates(subset=['Molecule ChEMBL ID'])"
   ]
  },
  {
   "cell_type": "code",
   "execution_count": 15,
   "id": "a5ab99f4",
   "metadata": {},
   "outputs": [
    {
     "data": {
      "text/html": [
       "<div>\n",
       "<style scoped>\n",
       "    .dataframe tbody tr th:only-of-type {\n",
       "        vertical-align: middle;\n",
       "    }\n",
       "\n",
       "    .dataframe tbody tr th {\n",
       "        vertical-align: top;\n",
       "    }\n",
       "\n",
       "    .dataframe thead th {\n",
       "        text-align: right;\n",
       "    }\n",
       "</style>\n",
       "<table border=\"1\" class=\"dataframe\">\n",
       "  <thead>\n",
       "    <tr style=\"text-align: right;\">\n",
       "      <th></th>\n",
       "      <th>Molecule ChEMBL ID</th>\n",
       "      <th>Smiles</th>\n",
       "      <th>Standard Type</th>\n",
       "      <th>Standard Value</th>\n",
       "      <th>Standard Units</th>\n",
       "    </tr>\n",
       "  </thead>\n",
       "  <tbody>\n",
       "    <tr>\n",
       "      <th>14</th>\n",
       "      <td>CHEMBL3585775</td>\n",
       "      <td>COc1ccccc1C(C)NS(=O)(=O)NC(=O)OCc1ccccc1</td>\n",
       "      <td>IC50</td>\n",
       "      <td>0.02685</td>\n",
       "      <td>nM</td>\n",
       "    </tr>\n",
       "    <tr>\n",
       "      <th>15</th>\n",
       "      <td>CHEMBL4127071</td>\n",
       "      <td>C=C(C)[C@@H](O)CC[C@]1(C)[C@@H](CC=C(C)C)C[C@]...</td>\n",
       "      <td>IC50</td>\n",
       "      <td>9130.00000</td>\n",
       "      <td>nM</td>\n",
       "    </tr>\n",
       "    <tr>\n",
       "      <th>23</th>\n",
       "      <td>CHEMBL552832</td>\n",
       "      <td>Cl.O=C(CCC1CCN(Cc2ccccc2)CC1)c1ccccc1</td>\n",
       "      <td>IC50</td>\n",
       "      <td>305.00000</td>\n",
       "      <td>nM</td>\n",
       "    </tr>\n",
       "    <tr>\n",
       "      <th>24</th>\n",
       "      <td>CHEMBL2441674</td>\n",
       "      <td>COc1cc2c(cc1OC)C(=O)C(CCCCCc1cccc(OC)[n+]1C)C2...</td>\n",
       "      <td>IC50</td>\n",
       "      <td>120.00000</td>\n",
       "      <td>nM</td>\n",
       "    </tr>\n",
       "    <tr>\n",
       "      <th>25</th>\n",
       "      <td>CHEMBL2441672</td>\n",
       "      <td>COc1cc2c(cc1OC)C[N+](C)(CCCCCCc1cccc(OC)[n+]1C...</td>\n",
       "      <td>IC50</td>\n",
       "      <td>150.00000</td>\n",
       "      <td>nM</td>\n",
       "    </tr>\n",
       "    <tr>\n",
       "      <th>...</th>\n",
       "      <td>...</td>\n",
       "      <td>...</td>\n",
       "      <td>...</td>\n",
       "      <td>...</td>\n",
       "      <td>...</td>\n",
       "    </tr>\n",
       "    <tr>\n",
       "      <th>15489</th>\n",
       "      <td>CHEMBL4590539</td>\n",
       "      <td>CCN(CC)Cc1cc2cc(c1O)Oc1ccc(cc1)C[C@H]1c3cc(c(O...</td>\n",
       "      <td>IC50</td>\n",
       "      <td>68000.00000</td>\n",
       "      <td>nM</td>\n",
       "    </tr>\n",
       "    <tr>\n",
       "      <th>15494</th>\n",
       "      <td>CHEMBL452895</td>\n",
       "      <td>COc1cc2c3cc1Oc1c(O)c(OC)cc4c1[C@@H](Cc1ccc(O)c...</td>\n",
       "      <td>IC50</td>\n",
       "      <td>97000.00000</td>\n",
       "      <td>nM</td>\n",
       "    </tr>\n",
       "    <tr>\n",
       "      <th>15500</th>\n",
       "      <td>CHEMBL4757466</td>\n",
       "      <td>O=C(CCN1CCC2c3ccccc3NC2C1)Nc1ccc(/C=C2\\CCn3c2n...</td>\n",
       "      <td>IC50</td>\n",
       "      <td>9.75000</td>\n",
       "      <td>nM</td>\n",
       "    </tr>\n",
       "    <tr>\n",
       "      <th>15512</th>\n",
       "      <td>CHEMBL4787251</td>\n",
       "      <td>COc1cc2c(cc1O)CCC(C)(CCNCCOCCOCCNc1c3c(nc4cc(C...</td>\n",
       "      <td>IC50</td>\n",
       "      <td>8.35000</td>\n",
       "      <td>nM</td>\n",
       "    </tr>\n",
       "    <tr>\n",
       "      <th>15534</th>\n",
       "      <td>CHEMBL4240365</td>\n",
       "      <td>C=Cc1oc2ccc(Br)cc2c(=O)c1CN(/C=C/C(=O)OC)Cc1cc...</td>\n",
       "      <td>IC50</td>\n",
       "      <td>20000.00000</td>\n",
       "      <td>nM</td>\n",
       "    </tr>\n",
       "  </tbody>\n",
       "</table>\n",
       "<p>5639 rows × 5 columns</p>\n",
       "</div>"
      ],
      "text/plain": [
       "      Molecule ChEMBL ID                                             Smiles  \\\n",
       "14         CHEMBL3585775           COc1ccccc1C(C)NS(=O)(=O)NC(=O)OCc1ccccc1   \n",
       "15         CHEMBL4127071  C=C(C)[C@@H](O)CC[C@]1(C)[C@@H](CC=C(C)C)C[C@]...   \n",
       "23          CHEMBL552832              Cl.O=C(CCC1CCN(Cc2ccccc2)CC1)c1ccccc1   \n",
       "24         CHEMBL2441674  COc1cc2c(cc1OC)C(=O)C(CCCCCc1cccc(OC)[n+]1C)C2...   \n",
       "25         CHEMBL2441672  COc1cc2c(cc1OC)C[N+](C)(CCCCCCc1cccc(OC)[n+]1C...   \n",
       "...                  ...                                                ...   \n",
       "15489      CHEMBL4590539  CCN(CC)Cc1cc2cc(c1O)Oc1ccc(cc1)C[C@H]1c3cc(c(O...   \n",
       "15494       CHEMBL452895  COc1cc2c3cc1Oc1c(O)c(OC)cc4c1[C@@H](Cc1ccc(O)c...   \n",
       "15500      CHEMBL4757466  O=C(CCN1CCC2c3ccccc3NC2C1)Nc1ccc(/C=C2\\CCn3c2n...   \n",
       "15512      CHEMBL4787251  COc1cc2c(cc1O)CCC(C)(CCNCCOCCOCCNc1c3c(nc4cc(C...   \n",
       "15534      CHEMBL4240365  C=Cc1oc2ccc(Br)cc2c(=O)c1CN(/C=C/C(=O)OC)Cc1cc...   \n",
       "\n",
       "      Standard Type  Standard Value Standard Units  \n",
       "14             IC50         0.02685             nM  \n",
       "15             IC50      9130.00000             nM  \n",
       "23             IC50       305.00000             nM  \n",
       "24             IC50       120.00000             nM  \n",
       "25             IC50       150.00000             nM  \n",
       "...             ...             ...            ...  \n",
       "15489          IC50     68000.00000             nM  \n",
       "15494          IC50     97000.00000             nM  \n",
       "15500          IC50         9.75000             nM  \n",
       "15512          IC50         8.35000             nM  \n",
       "15534          IC50     20000.00000             nM  \n",
       "\n",
       "[5639 rows x 5 columns]"
      ]
     },
     "execution_count": 15,
     "metadata": {},
     "output_type": "execute_result"
    }
   ],
   "source": [
    "data"
   ]
  },
  {
   "cell_type": "markdown",
   "id": "6e586b8a",
   "metadata": {},
   "source": [
    "Наконец, выберем активные и неактивные молекулы."
   ]
  },
  {
   "cell_type": "code",
   "execution_count": 16,
   "id": "e1ba0365",
   "metadata": {},
   "outputs": [],
   "source": [
    "active = data.loc[data['Standard Value']<=500]"
   ]
  },
  {
   "cell_type": "code",
   "execution_count": 17,
   "id": "9e27fc7b",
   "metadata": {},
   "outputs": [
    {
     "data": {
      "text/plain": [
       "(1993, 5)"
      ]
     },
     "execution_count": 17,
     "metadata": {},
     "output_type": "execute_result"
    }
   ],
   "source": [
    "active.shape"
   ]
  },
  {
   "cell_type": "code",
   "execution_count": 18,
   "id": "c4693c6b",
   "metadata": {},
   "outputs": [
    {
     "name": "stderr",
     "output_type": "stream",
     "text": [
      "/tmp/ipykernel_490597/375007285.py:1: SettingWithCopyWarning: \n",
      "A value is trying to be set on a copy of a slice from a DataFrame.\n",
      "Try using .loc[row_indexer,col_indexer] = value instead\n",
      "\n",
      "See the caveats in the documentation: https://pandas.pydata.org/pandas-docs/stable/user_guide/indexing.html#returning-a-view-versus-a-copy\n",
      "  active['label'] = 1\n"
     ]
    }
   ],
   "source": [
    "active['label'] = 1"
   ]
  },
  {
   "cell_type": "code",
   "execution_count": 19,
   "id": "2709a31c",
   "metadata": {},
   "outputs": [
    {
     "data": {
      "text/html": [
       "<div>\n",
       "<style scoped>\n",
       "    .dataframe tbody tr th:only-of-type {\n",
       "        vertical-align: middle;\n",
       "    }\n",
       "\n",
       "    .dataframe tbody tr th {\n",
       "        vertical-align: top;\n",
       "    }\n",
       "\n",
       "    .dataframe thead th {\n",
       "        text-align: right;\n",
       "    }\n",
       "</style>\n",
       "<table border=\"1\" class=\"dataframe\">\n",
       "  <thead>\n",
       "    <tr style=\"text-align: right;\">\n",
       "      <th></th>\n",
       "      <th>Molecule ChEMBL ID</th>\n",
       "      <th>Smiles</th>\n",
       "      <th>Standard Type</th>\n",
       "      <th>Standard Value</th>\n",
       "      <th>Standard Units</th>\n",
       "      <th>label</th>\n",
       "    </tr>\n",
       "  </thead>\n",
       "  <tbody>\n",
       "    <tr>\n",
       "      <th>14</th>\n",
       "      <td>CHEMBL3585775</td>\n",
       "      <td>COc1ccccc1C(C)NS(=O)(=O)NC(=O)OCc1ccccc1</td>\n",
       "      <td>IC50</td>\n",
       "      <td>0.02685</td>\n",
       "      <td>nM</td>\n",
       "      <td>1</td>\n",
       "    </tr>\n",
       "    <tr>\n",
       "      <th>23</th>\n",
       "      <td>CHEMBL552832</td>\n",
       "      <td>Cl.O=C(CCC1CCN(Cc2ccccc2)CC1)c1ccccc1</td>\n",
       "      <td>IC50</td>\n",
       "      <td>305.00000</td>\n",
       "      <td>nM</td>\n",
       "      <td>1</td>\n",
       "    </tr>\n",
       "    <tr>\n",
       "      <th>24</th>\n",
       "      <td>CHEMBL2441674</td>\n",
       "      <td>COc1cc2c(cc1OC)C(=O)C(CCCCCc1cccc(OC)[n+]1C)C2...</td>\n",
       "      <td>IC50</td>\n",
       "      <td>120.00000</td>\n",
       "      <td>nM</td>\n",
       "      <td>1</td>\n",
       "    </tr>\n",
       "    <tr>\n",
       "      <th>25</th>\n",
       "      <td>CHEMBL2441672</td>\n",
       "      <td>COc1cc2c(cc1OC)C[N+](C)(CCCCCCc1cccc(OC)[n+]1C...</td>\n",
       "      <td>IC50</td>\n",
       "      <td>150.00000</td>\n",
       "      <td>nM</td>\n",
       "      <td>1</td>\n",
       "    </tr>\n",
       "    <tr>\n",
       "      <th>26</th>\n",
       "      <td>CHEMBL2441669</td>\n",
       "      <td>COc1cccc(CCCCCCCCc2cccc(OC)[n+]2C)[n+]1C.O=S(=...</td>\n",
       "      <td>IC50</td>\n",
       "      <td>180.00000</td>\n",
       "      <td>nM</td>\n",
       "      <td>1</td>\n",
       "    </tr>\n",
       "  </tbody>\n",
       "</table>\n",
       "</div>"
      ],
      "text/plain": [
       "   Molecule ChEMBL ID                                             Smiles  \\\n",
       "14      CHEMBL3585775           COc1ccccc1C(C)NS(=O)(=O)NC(=O)OCc1ccccc1   \n",
       "23       CHEMBL552832              Cl.O=C(CCC1CCN(Cc2ccccc2)CC1)c1ccccc1   \n",
       "24      CHEMBL2441674  COc1cc2c(cc1OC)C(=O)C(CCCCCc1cccc(OC)[n+]1C)C2...   \n",
       "25      CHEMBL2441672  COc1cc2c(cc1OC)C[N+](C)(CCCCCCc1cccc(OC)[n+]1C...   \n",
       "26      CHEMBL2441669  COc1cccc(CCCCCCCCc2cccc(OC)[n+]2C)[n+]1C.O=S(=...   \n",
       "\n",
       "   Standard Type  Standard Value Standard Units  label  \n",
       "14          IC50         0.02685             nM      1  \n",
       "23          IC50       305.00000             nM      1  \n",
       "24          IC50       120.00000             nM      1  \n",
       "25          IC50       150.00000             nM      1  \n",
       "26          IC50       180.00000             nM      1  "
      ]
     },
     "execution_count": 19,
     "metadata": {},
     "output_type": "execute_result"
    }
   ],
   "source": [
    "active.head()"
   ]
  },
  {
   "cell_type": "code",
   "execution_count": 20,
   "id": "36ff78cb",
   "metadata": {},
   "outputs": [],
   "source": [
    "inactive = data.loc[data['Standard Value']>500]"
   ]
  },
  {
   "cell_type": "code",
   "execution_count": 21,
   "id": "8b048ca0",
   "metadata": {},
   "outputs": [
    {
     "data": {
      "text/plain": [
       "(3646, 5)"
      ]
     },
     "execution_count": 21,
     "metadata": {},
     "output_type": "execute_result"
    }
   ],
   "source": [
    "inactive.shape"
   ]
  },
  {
   "cell_type": "code",
   "execution_count": 22,
   "id": "1f4a8b82",
   "metadata": {},
   "outputs": [
    {
     "name": "stderr",
     "output_type": "stream",
     "text": [
      "/tmp/ipykernel_490597/3305511170.py:1: SettingWithCopyWarning: \n",
      "A value is trying to be set on a copy of a slice from a DataFrame.\n",
      "Try using .loc[row_indexer,col_indexer] = value instead\n",
      "\n",
      "See the caveats in the documentation: https://pandas.pydata.org/pandas-docs/stable/user_guide/indexing.html#returning-a-view-versus-a-copy\n",
      "  inactive['label'] = 0\n"
     ]
    }
   ],
   "source": [
    "inactive['label'] = 0"
   ]
  },
  {
   "cell_type": "code",
   "execution_count": 23,
   "id": "72f58f53",
   "metadata": {},
   "outputs": [
    {
     "data": {
      "text/html": [
       "<div>\n",
       "<style scoped>\n",
       "    .dataframe tbody tr th:only-of-type {\n",
       "        vertical-align: middle;\n",
       "    }\n",
       "\n",
       "    .dataframe tbody tr th {\n",
       "        vertical-align: top;\n",
       "    }\n",
       "\n",
       "    .dataframe thead th {\n",
       "        text-align: right;\n",
       "    }\n",
       "</style>\n",
       "<table border=\"1\" class=\"dataframe\">\n",
       "  <thead>\n",
       "    <tr style=\"text-align: right;\">\n",
       "      <th></th>\n",
       "      <th>Molecule ChEMBL ID</th>\n",
       "      <th>Smiles</th>\n",
       "      <th>Standard Type</th>\n",
       "      <th>Standard Value</th>\n",
       "      <th>Standard Units</th>\n",
       "      <th>label</th>\n",
       "    </tr>\n",
       "  </thead>\n",
       "  <tbody>\n",
       "    <tr>\n",
       "      <th>15</th>\n",
       "      <td>CHEMBL4127071</td>\n",
       "      <td>C=C(C)[C@@H](O)CC[C@]1(C)[C@@H](CC=C(C)C)C[C@]...</td>\n",
       "      <td>IC50</td>\n",
       "      <td>9130.0</td>\n",
       "      <td>nM</td>\n",
       "      <td>0</td>\n",
       "    </tr>\n",
       "    <tr>\n",
       "      <th>35</th>\n",
       "      <td>CHEMBL4525824</td>\n",
       "      <td>O=C(c1cccc(Cl)c1Cl)n1nc(OCCN2CCCC2)c2ccccc21</td>\n",
       "      <td>IC50</td>\n",
       "      <td>10000.0</td>\n",
       "      <td>nM</td>\n",
       "      <td>0</td>\n",
       "    </tr>\n",
       "    <tr>\n",
       "      <th>36</th>\n",
       "      <td>CHEMBL4531896</td>\n",
       "      <td>O=C(c1ccccc1OCc1ccccc1)n1nc(OCCN2CCCC2)c2ccccc21</td>\n",
       "      <td>IC50</td>\n",
       "      <td>10000.0</td>\n",
       "      <td>nM</td>\n",
       "      <td>0</td>\n",
       "    </tr>\n",
       "    <tr>\n",
       "      <th>37</th>\n",
       "      <td>CHEMBL4441005</td>\n",
       "      <td>COc1cc(C(=O)n2nc(OCCN3CCCC3)c3ccccc32)cc(OC)c1OC</td>\n",
       "      <td>IC50</td>\n",
       "      <td>11600.0</td>\n",
       "      <td>nM</td>\n",
       "      <td>0</td>\n",
       "    </tr>\n",
       "    <tr>\n",
       "      <th>38</th>\n",
       "      <td>CHEMBL4476861</td>\n",
       "      <td>O=C(c1cccc2ccccc12)n1nc(OCCCN2CCCC2)c2ccccc21</td>\n",
       "      <td>IC50</td>\n",
       "      <td>10000.0</td>\n",
       "      <td>nM</td>\n",
       "      <td>0</td>\n",
       "    </tr>\n",
       "  </tbody>\n",
       "</table>\n",
       "</div>"
      ],
      "text/plain": [
       "   Molecule ChEMBL ID                                             Smiles  \\\n",
       "15      CHEMBL4127071  C=C(C)[C@@H](O)CC[C@]1(C)[C@@H](CC=C(C)C)C[C@]...   \n",
       "35      CHEMBL4525824       O=C(c1cccc(Cl)c1Cl)n1nc(OCCN2CCCC2)c2ccccc21   \n",
       "36      CHEMBL4531896   O=C(c1ccccc1OCc1ccccc1)n1nc(OCCN2CCCC2)c2ccccc21   \n",
       "37      CHEMBL4441005   COc1cc(C(=O)n2nc(OCCN3CCCC3)c3ccccc32)cc(OC)c1OC   \n",
       "38      CHEMBL4476861      O=C(c1cccc2ccccc12)n1nc(OCCCN2CCCC2)c2ccccc21   \n",
       "\n",
       "   Standard Type  Standard Value Standard Units  label  \n",
       "15          IC50          9130.0             nM      0  \n",
       "35          IC50         10000.0             nM      0  \n",
       "36          IC50         10000.0             nM      0  \n",
       "37          IC50         11600.0             nM      0  \n",
       "38          IC50         10000.0             nM      0  "
      ]
     },
     "execution_count": 23,
     "metadata": {},
     "output_type": "execute_result"
    }
   ],
   "source": [
    "inactive.head()"
   ]
  },
  {
   "cell_type": "code",
   "execution_count": 24,
   "id": "ea378f54",
   "metadata": {},
   "outputs": [],
   "source": [
    "X = active.append(inactive, ignore_index=True)"
   ]
  },
  {
   "cell_type": "code",
   "execution_count": 25,
   "id": "2899fb43",
   "metadata": {},
   "outputs": [
    {
     "data": {
      "text/html": [
       "<div>\n",
       "<style scoped>\n",
       "    .dataframe tbody tr th:only-of-type {\n",
       "        vertical-align: middle;\n",
       "    }\n",
       "\n",
       "    .dataframe tbody tr th {\n",
       "        vertical-align: top;\n",
       "    }\n",
       "\n",
       "    .dataframe thead th {\n",
       "        text-align: right;\n",
       "    }\n",
       "</style>\n",
       "<table border=\"1\" class=\"dataframe\">\n",
       "  <thead>\n",
       "    <tr style=\"text-align: right;\">\n",
       "      <th></th>\n",
       "      <th>Molecule ChEMBL ID</th>\n",
       "      <th>Smiles</th>\n",
       "      <th>Standard Type</th>\n",
       "      <th>Standard Value</th>\n",
       "      <th>Standard Units</th>\n",
       "      <th>label</th>\n",
       "    </tr>\n",
       "  </thead>\n",
       "  <tbody>\n",
       "    <tr>\n",
       "      <th>0</th>\n",
       "      <td>CHEMBL3585775</td>\n",
       "      <td>COc1ccccc1C(C)NS(=O)(=O)NC(=O)OCc1ccccc1</td>\n",
       "      <td>IC50</td>\n",
       "      <td>0.02685</td>\n",
       "      <td>nM</td>\n",
       "      <td>1</td>\n",
       "    </tr>\n",
       "    <tr>\n",
       "      <th>1</th>\n",
       "      <td>CHEMBL552832</td>\n",
       "      <td>Cl.O=C(CCC1CCN(Cc2ccccc2)CC1)c1ccccc1</td>\n",
       "      <td>IC50</td>\n",
       "      <td>305.00000</td>\n",
       "      <td>nM</td>\n",
       "      <td>1</td>\n",
       "    </tr>\n",
       "    <tr>\n",
       "      <th>2</th>\n",
       "      <td>CHEMBL2441674</td>\n",
       "      <td>COc1cc2c(cc1OC)C(=O)C(CCCCCc1cccc(OC)[n+]1C)C2...</td>\n",
       "      <td>IC50</td>\n",
       "      <td>120.00000</td>\n",
       "      <td>nM</td>\n",
       "      <td>1</td>\n",
       "    </tr>\n",
       "    <tr>\n",
       "      <th>3</th>\n",
       "      <td>CHEMBL2441672</td>\n",
       "      <td>COc1cc2c(cc1OC)C[N+](C)(CCCCCCc1cccc(OC)[n+]1C...</td>\n",
       "      <td>IC50</td>\n",
       "      <td>150.00000</td>\n",
       "      <td>nM</td>\n",
       "      <td>1</td>\n",
       "    </tr>\n",
       "    <tr>\n",
       "      <th>4</th>\n",
       "      <td>CHEMBL2441669</td>\n",
       "      <td>COc1cccc(CCCCCCCCc2cccc(OC)[n+]2C)[n+]1C.O=S(=...</td>\n",
       "      <td>IC50</td>\n",
       "      <td>180.00000</td>\n",
       "      <td>nM</td>\n",
       "      <td>1</td>\n",
       "    </tr>\n",
       "    <tr>\n",
       "      <th>...</th>\n",
       "      <td>...</td>\n",
       "      <td>...</td>\n",
       "      <td>...</td>\n",
       "      <td>...</td>\n",
       "      <td>...</td>\n",
       "      <td>...</td>\n",
       "    </tr>\n",
       "    <tr>\n",
       "      <th>5634</th>\n",
       "      <td>CHEMBL4763528</td>\n",
       "      <td>CN1C[C@@H](c2cccs2)[C@@]2(CSc3ccccc3C2=O)C12C(...</td>\n",
       "      <td>IC50</td>\n",
       "      <td>21160.00000</td>\n",
       "      <td>nM</td>\n",
       "      <td>0</td>\n",
       "    </tr>\n",
       "    <tr>\n",
       "      <th>5635</th>\n",
       "      <td>CHEMBL4169394</td>\n",
       "      <td>Cc1cc(=O)oc2cc(OCCSC(=S)N(C)C)ccc12</td>\n",
       "      <td>IC50</td>\n",
       "      <td>10590.00000</td>\n",
       "      <td>nM</td>\n",
       "      <td>0</td>\n",
       "    </tr>\n",
       "    <tr>\n",
       "      <th>5636</th>\n",
       "      <td>CHEMBL4590539</td>\n",
       "      <td>CCN(CC)Cc1cc2cc(c1O)Oc1ccc(cc1)C[C@H]1c3cc(c(O...</td>\n",
       "      <td>IC50</td>\n",
       "      <td>68000.00000</td>\n",
       "      <td>nM</td>\n",
       "      <td>0</td>\n",
       "    </tr>\n",
       "    <tr>\n",
       "      <th>5637</th>\n",
       "      <td>CHEMBL452895</td>\n",
       "      <td>COc1cc2c3cc1Oc1c(O)c(OC)cc4c1[C@@H](Cc1ccc(O)c...</td>\n",
       "      <td>IC50</td>\n",
       "      <td>97000.00000</td>\n",
       "      <td>nM</td>\n",
       "      <td>0</td>\n",
       "    </tr>\n",
       "    <tr>\n",
       "      <th>5638</th>\n",
       "      <td>CHEMBL4240365</td>\n",
       "      <td>C=Cc1oc2ccc(Br)cc2c(=O)c1CN(/C=C/C(=O)OC)Cc1cc...</td>\n",
       "      <td>IC50</td>\n",
       "      <td>20000.00000</td>\n",
       "      <td>nM</td>\n",
       "      <td>0</td>\n",
       "    </tr>\n",
       "  </tbody>\n",
       "</table>\n",
       "<p>5639 rows × 6 columns</p>\n",
       "</div>"
      ],
      "text/plain": [
       "     Molecule ChEMBL ID                                             Smiles  \\\n",
       "0         CHEMBL3585775           COc1ccccc1C(C)NS(=O)(=O)NC(=O)OCc1ccccc1   \n",
       "1          CHEMBL552832              Cl.O=C(CCC1CCN(Cc2ccccc2)CC1)c1ccccc1   \n",
       "2         CHEMBL2441674  COc1cc2c(cc1OC)C(=O)C(CCCCCc1cccc(OC)[n+]1C)C2...   \n",
       "3         CHEMBL2441672  COc1cc2c(cc1OC)C[N+](C)(CCCCCCc1cccc(OC)[n+]1C...   \n",
       "4         CHEMBL2441669  COc1cccc(CCCCCCCCc2cccc(OC)[n+]2C)[n+]1C.O=S(=...   \n",
       "...                 ...                                                ...   \n",
       "5634      CHEMBL4763528  CN1C[C@@H](c2cccs2)[C@@]2(CSc3ccccc3C2=O)C12C(...   \n",
       "5635      CHEMBL4169394                Cc1cc(=O)oc2cc(OCCSC(=S)N(C)C)ccc12   \n",
       "5636      CHEMBL4590539  CCN(CC)Cc1cc2cc(c1O)Oc1ccc(cc1)C[C@H]1c3cc(c(O...   \n",
       "5637       CHEMBL452895  COc1cc2c3cc1Oc1c(O)c(OC)cc4c1[C@@H](Cc1ccc(O)c...   \n",
       "5638      CHEMBL4240365  C=Cc1oc2ccc(Br)cc2c(=O)c1CN(/C=C/C(=O)OC)Cc1cc...   \n",
       "\n",
       "     Standard Type  Standard Value Standard Units  label  \n",
       "0             IC50         0.02685             nM      1  \n",
       "1             IC50       305.00000             nM      1  \n",
       "2             IC50       120.00000             nM      1  \n",
       "3             IC50       150.00000             nM      1  \n",
       "4             IC50       180.00000             nM      1  \n",
       "...            ...             ...            ...    ...  \n",
       "5634          IC50     21160.00000             nM      0  \n",
       "5635          IC50     10590.00000             nM      0  \n",
       "5636          IC50     68000.00000             nM      0  \n",
       "5637          IC50     97000.00000             nM      0  \n",
       "5638          IC50     20000.00000             nM      0  \n",
       "\n",
       "[5639 rows x 6 columns]"
      ]
     },
     "execution_count": 25,
     "metadata": {},
     "output_type": "execute_result"
    }
   ],
   "source": [
    "X"
   ]
  },
  {
   "cell_type": "code",
   "execution_count": 26,
   "id": "8e903613",
   "metadata": {},
   "outputs": [
    {
     "data": {
      "text/plain": [
       "0    3646\n",
       "1    1993\n",
       "Name: label, dtype: int64"
      ]
     },
     "execution_count": 26,
     "metadata": {},
     "output_type": "execute_result"
    }
   ],
   "source": [
    "X['label'].value_counts()"
   ]
  },
  {
   "cell_type": "code",
   "execution_count": 27,
   "id": "8f80023b",
   "metadata": {},
   "outputs": [],
   "source": [
    "X.to_csv('data.csv', sep='\\t')"
   ]
  }
 ],
 "metadata": {
  "kernelspec": {
   "display_name": "Python 3",
   "language": "python",
   "name": "python3"
  },
  "language_info": {
   "codemirror_mode": {
    "name": "ipython",
    "version": 3
   },
   "file_extension": ".py",
   "mimetype": "text/x-python",
   "name": "python",
   "nbconvert_exporter": "python",
   "pygments_lexer": "ipython3",
   "version": "3.9.7"
  }
 },
 "nbformat": 4,
 "nbformat_minor": 5
}
